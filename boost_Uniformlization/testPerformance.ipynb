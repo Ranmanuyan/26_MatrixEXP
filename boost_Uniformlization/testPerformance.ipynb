{
 "cells": [
  {
   "cell_type": "code",
   "execution_count": 1,
   "metadata": {},
   "outputs": [
    {
     "name": "stdout",
     "output_type": "stream",
     "text": [
      "Butools V2.0\n",
      "Packages loaded: utils, mc, moments, reptrans, trace, ph, dph, map, dmap, fitting, mam, queues\n",
      "Global variables: \n",
      "butools.verbose = False , butools.checkInput = True , butools.checkPrecision = 1e-12\n"
     ]
    }
   ],
   "source": [
    "%precision %g\n",
    "%run \"/Users/liulei/Downloads/butools2/Python/BuToolsInit\"\n",
    "\n",
    "import matplotlib.pyplot as plt\n",
    "import time"
   ]
  },
  {
   "cell_type": "code",
   "execution_count": null,
   "metadata": {},
   "outputs": [],
   "source": [
    "# 4 jobs -12 states\n",
    "\n",
    "\n",
    "\n",
    "\n",
    "# without absorb state, 11* 11 matrix\n",
    "tic = time.perf_counter()\n",
    "T = ml.matrix([\n",
    "[-0.4,0.4,0,0,0,0,0,0,0,0,0],\n",
    "[0,-1.1,0.7,0.4,0,0,0,0,0,0,0],\n",
    "[0,0,-0.7,0,0.7,0,0,0,0,0,0],\n",
    "[0,0,0,-0.4,0.4,0,0,0,0,0,0],\n",
    "[0,0,0,0,-1.1,0.3,0.8,0,0,0,0],\n",
    "[0,0,0,0,0,-0.3,0,0.3,0,0,0],\n",
    "[0,0,0,0,0,0,-0.8,0.8,0,0,0],\n",
    "[0,0,0,0,0,0,0,-1.1,0.7,0.4,0],\n",
    "[0,0,0,0,0,0,0,0,-0.7,0,0.7],\n",
    "[0,0,0,0,0,0,0,0,0,-0.4,0.4],\n",
    "[0,0,0,0,0,0,0,0,0,0,-0.3]\n",
    "])\n",
    "\n",
    "a = ml.matrix([[1,0,0,0,0,0,0,0,0,0,0]])\n",
    "\n",
    "\n",
    "xx = np.arange(0, 60, 1)\n",
    "cdf = CdfFromPH(a, T, xx)\n",
    "toc = time.perf_counter()\n",
    "print(f\"Cost {toc - tic:0.4f} seconds\")\n",
    "print(cdf)\n",
    "\n",
    "# # plot\n",
    "\n",
    "plt.plot(xx,cdf,color='red')"
   ]
  },
  {
   "cell_type": "code",
   "execution_count": 2,
   "metadata": {},
   "outputs": [
    {
     "name": "stdout",
     "output_type": "stream",
     "text": [
      "[0.00000000e+00 1.11022302e-16 0.00000000e+00 7.21644966e-15\n",
      " 1.17128529e-12 5.27592414e-11 1.05739517e-09 1.21453911e-08\n",
      " 9.29831107e-08 5.23016511e-07 2.31007599e-06 8.40107710e-06\n",
      " 2.60525141e-05 7.07487573e-05 1.71758733e-04 3.78935298e-04\n",
      " 7.69827085e-04 1.45577479e-03 2.58555328e-03 4.34535484e-03\n",
      " 6.95443609e-03 1.06564399e-02 1.57070909e-02 2.23595050e-02\n",
      " 3.08486582e-02 4.13766042e-02 5.40998352e-02 6.91198284e-02\n",
      " 8.64773752e-02 1.06150847e-01 1.28058159e-01 1.52061899e-01\n",
      " 1.77976895e-01 2.05579428e-01 2.34617288e-01 2.64819969e-01\n",
      " 2.95908411e-01 3.27603833e-01 3.59635367e-01 3.91746324e-01\n",
      " 4.23699034e-01 4.55278312e-01 4.86293637e-01 5.16580222e-01\n",
      " 5.45999124e-01 5.74436588e-01 6.01802799e-01 6.28030204e-01\n",
      " 6.53071549e-01 6.76897756e-01 6.99495737e-01 7.20866228e-01\n",
      " 7.41021708e-01 7.59984430e-01 7.77784619e-01 7.94458825e-01\n",
      " 8.10048463e-01 8.24598523e-01 8.38156453e-01 8.50771201e-01\n",
      " 8.62492409e-01 8.73369740e-01 8.83452329e-01 8.92788341e-01\n",
      " 9.01424620e-01 9.09406428e-01 9.16777244e-01 9.23578628e-01\n",
      " 9.29850136e-01 9.35629268e-01 9.40951460e-01 9.45850091e-01\n",
      " 9.50356527e-01 9.54500166e-01 9.58308504e-01 9.61807209e-01\n",
      " 9.65020204e-01 9.67969744e-01 9.70676510e-01 9.73159692e-01\n",
      " 9.75437078e-01 9.77525134e-01 9.79439096e-01 9.81193040e-01\n",
      " 9.82799966e-01 9.84271870e-01 9.85619812e-01 9.86853986e-01\n",
      " 9.87983779e-01 9.89017831e-01 9.89964093e-01 9.90829875e-01\n",
      " 9.91621897e-01 9.92346335e-01 9.93008858e-01 9.93614675e-01\n",
      " 9.94168566e-01 9.94674915e-01 9.95137747e-01 9.95560750e-01\n",
      " 9.95947307e-01 9.96300519e-01 9.96623228e-01 9.96918037e-01\n",
      " 9.97187330e-01 9.97433291e-01 9.97657921e-01 9.97863051e-01\n",
      " 9.98050355e-01 9.98221368e-01 9.98377494e-01 9.98520015e-01\n",
      " 9.98650108e-01 9.98768846e-01 9.98877212e-01 9.98976104e-01\n",
      " 9.99066344e-01 9.99148682e-01 9.99223805e-01 9.99292341e-01]\n",
      "Cost 0.2241 seconds\n"
     ]
    },
    {
     "data": {
      "text/plain": [
       "[<matplotlib.lines.Line2D at 0x1c1367ef10>]"
      ]
     },
     "execution_count": 2,
     "metadata": {},
     "output_type": "execute_result"
    },
    {
     "data": {
      "image/png": "[encoded data removed]",
      "text/plain": [
       "<Figure size 432x288 with 1 Axes>"
      ]
     },
     "metadata": {
      "needs_background": "light"
     },
     "output_type": "display_data"
    }
   ],
   "source": [
    "# 10 jobs -30 states\n",
    "\n",
    "tic = time.perf_counter()\n",
    "\n",
    "T = ml.matrix(\n",
    "[[-0.7,0.7,0,0,0,0,0,0,0,0,0,0,0,0,0,0,0,0,0,0,0,0,0,0,0,0,0,0,0],\n",
    "[0,-1,0.2,0.8,0,0,0,0,0,0,0,0,0,0,0,0,0,0,0,0,0,0,0,0,0,0,0,0,0],\n",
    "[0,0,-0.2,0,0.2,0,0,0,0,0,0,0,0,0,0,0,0,0,0,0,0,0,0,0,0,0,0,0,0],\n",
    "[0,0,0,-0.8,0.8,0,0,0,0,0,0,0,0,0,0,0,0,0,0,0,0,0,0,0,0,0,0,0,0],\n",
    "[0,0,0,0,-0.6,0.2,0.4,0,0,0,0,0,0,0,0,0,0,0,0,0,0,0,0,0,0,0,0,0,0],\n",
    "[0,0,0,0,0,-0.2,0,0.2,0,0,0,0,0,0,0,0,0,0,0,0,0,0,0,0,0,0,0,0,0],\n",
    "[0,0,0,0,0,0,-0.4,0.4,0,0,0,0,0,0,0,0,0,0,0,0,0,0,0,0,0,0,0,0,0],\n",
    "[0,0,0,0,0,0,0,-1.3,0.8,0.5,0,0,0,0,0,0,0,0,0,0,0,0,0,0,0,0,0,0,0],\n",
    "[0,0,0,0,0,0,0,0,-0.8,0,0.8,0,0,0,0,0,0,0,0,0,0,0,0,0,0,0,0,0,0],\n",
    "[0,0,0,0,0,0,0,0,0,-0.5,0.5,0,0,0,0,0,0,0,0,0,0,0,0,0,0,0,0,0,0],\n",
    "[0,0,0,0,0,0,0,0,0,0,-0.4,0.3,0.1,0,0,0,0,0,0,0,0,0,0,0,0,0,0,0,0],\n",
    "[0,0,0,0,0,0,0,0,0,0,0,-0.3,0,0.3,0,0,0,0,0,0,0,0,0,0,0,0,0,0,0],\n",
    "[0,0,0,0,0,0,0,0,0,0,0,0,-0.1,0.1,0,0,0,0,0,0,0,0,0,0,0,0,0,0,0],\n",
    "[0,0,0,0,0,0,0,0,0,0,0,0,0,-1.2,0.7,0.5,0,0,0,0,0,0,0,0,0,0,0,0,0],\n",
    "[0,0,0,0,0,0,0,0,0,0,0,0,0,0,-0.7,0,0.7,0,0,0,0,0,0,0,0,0,0,0,0],\n",
    "[0,0,0,0,0,0,0,0,0,0,0,0,0,0,0,-0.5,0.5,0,0,0,0,0,0,0,0,0,0,0,0],\n",
    "[0,0,0,0,0,0,0,0,0,0,0,0,0,0,0,0,-0.6,0.3,0.3,0,0,0,0,0,0,0,0,0,0],\n",
    "[0,0,0,0,0,0,0,0,0,0,0,0,0,0,0,0,0,-0.3,0,0.3,0,0,0,0,0,0,0,0,0],\n",
    "[0,0,0,0,0,0,0,0,0,0,0,0,0,0,0,0,0,0,-0.3,0.3,0,0,0,0,0,0,0,0,0],\n",
    "[0,0,0,0,0,0,0,0,0,0,0,0,0,0,0,0,0,0,0,-0.9,0.5,0.4,0,0,0,0,0,0,0],\n",
    "[0,0,0,0,0,0,0,0,0,0,0,0,0,0,0,0,0,0,0,0,-0.5,0,0.5,0,0,0,0,0,0],\n",
    "[0,0,0,0,0,0,0,0,0,0,0,0,0,0,0,0,0,0,0,0,0,-0.4,0.4,0,0,0,0,0,0],\n",
    "[0,0,0,0,0,0,0,0,0,0,0,0,0,0,0,0,0,0,0,0,0,0,-1.1,0.8,0.3,0,0,0,0],\n",
    "[0,0,0,0,0,0,0,0,0,0,0,0,0,0,0,0,0,0,0,0,0,0,0,-0.8,0,0.8,0,0,0],\n",
    "[0,0,0,0,0,0,0,0,0,0,0,0,0,0,0,0,0,0,0,0,0,0,0,0,-0.3,0.3,0,0,0],\n",
    "[0,0,0,0,0,0,0,0,0,0,0,0,0,0,0,0,0,0,0,0,0,0,0,0,0,-1.5,0.8,0.7,0],\n",
    "[0,0,0,0,0,0,0,0,0,0,0,0,0,0,0,0,0,0,0,0,0,0,0,0,0,0,-0.8,0,0.8],\n",
    "[0,0,0,0,0,0,0,0,0,0,0,0,0,0,0,0,0,0,0,0,0,0,0,0,0,0,0,-0.7,0.7],\n",
    "[0,0,0,0,0,0,0,0,0,0,0,0,0,0,0,0,0,0,0,0,0,0,0,0,0,0,0,0,-0.1]\n",
    "])\n",
    "\n",
    "\n",
    "a = ml.matrix([[1,0,0,0,0,0,0,0,0,0,0, 0, 0, 0, 0, 0, 0, 0, 0, 0, 0,  0, 0, 0, 0, 0, 0, 0,0]])\n",
    "xx = np.arange(0, 120, 1)\n",
    "cdf = CdfFromPH(a, T, xx)\n",
    "\n",
    "toc = time.perf_counter()\n",
    "\n",
    "\n",
    "print(cdf)\n",
    "print(f\"Cost {toc - tic:0.4f} seconds\")\n",
    "# # plot\n",
    "\n",
    "plt.plot(xx,cdf,color='red')\n"
   ]
  },
  {
   "cell_type": "code",
   "execution_count": null,
   "metadata": {},
   "outputs": [],
   "source": []
  }
 ],
 "metadata": {
  "kernelspec": {
   "display_name": "Python 3",
   "language": "python",
   "name": "python3"
  },
  "language_info": {
   "codemirror_mode": {
    "name": "ipython",
    "version": 3
   },
   "file_extension": ".py",
   "mimetype": "text/x-python",
   "name": "python",
   "nbconvert_exporter": "python",
   "pygments_lexer": "ipython3",
   "version": "3.7.4"
  }
 },
 "nbformat": 4,
 "nbformat_minor": 2
}
