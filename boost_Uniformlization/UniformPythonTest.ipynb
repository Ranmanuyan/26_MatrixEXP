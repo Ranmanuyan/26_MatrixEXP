{
 "cells": [
  {
   "cell_type": "code",
   "execution_count": 1,
   "metadata": {},
   "outputs": [
    {
     "name": "stdout",
     "output_type": "stream",
     "text": [
      "Butools V2.0\n",
      "Packages loaded: utils, mc, moments, reptrans, trace, ph, dph, map, dmap, fitting, mam, queues\n",
      "Global variables: \n",
      "butools.verbose = False , butools.checkInput = True , butools.checkPrecision = 1e-12\n",
      "Cost 0.5271 seconds\n"
     ]
    },
    {
     "data": {
      "text/plain": [
       "[<matplotlib.lines.Line2D at 0x1c15b9d5d0>]"
      ]
     },
     "execution_count": 1,
     "metadata": {},
     "output_type": "execute_result"
    },
    {
     "data": {
      "image/png": "[encoded data removed]",
      "text/plain": [
       "<Figure size 432x288 with 1 Axes>"
      ]
     },
     "metadata": {
      "needs_background": "light"
     },
     "output_type": "display_data"
    }
   ],
   "source": [
    "# INSTANCE 1\n",
    "\n",
    "%precision %g\n",
    "%run \"/Users/liulei/Downloads/butools2/Python/BuToolsInit\"\n",
    "\n",
    "import matplotlib.pyplot as plt\n",
    "import time\n",
    "\n",
    "# python uniformation operation time test \n",
    "\n",
    "# with absorb state\n",
    "tic = time.perf_counter()\n",
    "Qstar = ml.matrix([[0.636364,0.363636,0,0,0,0,0,0,0,0,0,0],[0,0,0.636364,0.363636,0,0,0,0,0,0,0,0],[0,0,0.363636,0,0.636364,0,0,0,0,0,0,0],[0,0,0,0.636364,0.363636,0,0,0,0,0,0,0],[0,0,0,0,0,0.272727,0.727273,0,0,0,0,0],[0,0,0,0,0,0.727273,0,0.272727,0,0,0,0],[0,0,0,0,0,0,0.272727,0.727273,0,0,0,0],[0,0,0,0,0,0,0,0,0.636364,0.363636,0,0],[0,0,0,0,0,0,0,0,0.363636,0,0.636364,0],[0,0,0,0,0,0,0,0,0,0.636364,0.363636,0],[0,0,0,0,0,0,0,0,0,0,0.727273,0.272727],[0,0,0,0,0,0,0,0,0,0,0,1]])\n",
    "\n",
    "\n",
    "\n",
    "delta1 = ml.matrix(\n",
    "[\n",
    "    [1, 0, 0, 0 , 0, 0, 0, 0 , 0, 0, 0 , 0],\n",
    "    [0, 1, 0, 0 , 0, 0, 0, 0 , 0, 0, 0 , 0],\n",
    "    [0, 0, 1, 0 , 0, 0, 0, 0 , 0, 0, 0 , 0],\n",
    "    [0, 0, 0, 1 , 0, 0, 0, 0 , 0, 0, 0 , 0],\n",
    "    [0, 0, 0, 0 , 1, 0, 0, 0 , 0, 0, 0 , 0],\n",
    "    [0, 0, 0, 0 , 0, 1, 0, 0 , 0, 0, 0 , 0],\n",
    "    [0, 0, 0, 0 , 0, 0, 1, 0 , 0, 0, 0 , 0],\n",
    "    [0, 0, 0, 0 , 0, 0, 0, 1 , 0, 0, 0 , 0],\n",
    "    [0, 0, 0, 0 , 0, 0, 0, 0 , 1, 0, 0 , 0],\n",
    "    [0, 0, 0, 0 , 0, 0, 0, 0 , 0, 1, 0 , 0],\n",
    "    [0, 0, 0, 0 , 0, 0, 0, 0 , 0, 0, 1 , 0],\n",
    "    [0, 0, 0, 0 , 0, 0, 0, 0 , 0, 0, 0 , 1]\n",
    "]\n",
    ")\n",
    "\n",
    "cdfList=[]\n",
    "xList=[]\n",
    "q = 1.1\n",
    "for x1 in range(0, 60):\n",
    "    cdf =0\n",
    "    x= x1\n",
    "    xList.append(x)\n",
    "    delta = delta1\n",
    "    for i in range(1,100):\n",
    "        a = (q*x)**i\n",
    "        b = np.math.factorial(i)\n",
    "        delta = delta.dot(Qstar)\n",
    "        cdf += ((np.exp(-q*x))*a* delta/b)[0,11]\n",
    "    cdfList.append(cdf)\n",
    "toc = time.perf_counter()\n",
    "print(f\"Cost {toc - tic:0.4f} seconds\")\n",
    "plt.plot(xList,cdfList,color='blue')\n",
    "# print(cdfList)"
   ]
  },
  {
   "cell_type": "code",
   "execution_count": 4,
   "metadata": {},
   "outputs": [
    {
     "name": "stdout",
     "output_type": "stream",
     "text": [
      "Butools V2.0\n",
      "Packages loaded: utils, mc, moments, reptrans, trace, ph, dph, map, dmap, fitting, mam, queues\n",
      "Global variables: \n",
      "butools.verbose = False , butools.checkInput = True , butools.checkPrecision = 1e-12\n",
      "Cost 4.5407 seconds\n"
     ]
    },
    {
     "data": {
      "text/plain": [
       "[<matplotlib.lines.Line2D at 0x1c15ed8090>]"
      ]
     },
     "execution_count": 4,
     "metadata": {},
     "output_type": "execute_result"
    },
    {
     "data": {
      "image/png": "[encoded data removed]",
      "text/plain": [
       "<Figure size 432x288 with 1 Axes>"
      ]
     },
     "metadata": {
      "needs_background": "light"
     },
     "output_type": "display_data"
    }
   ],
   "source": [
    "# INSTANCE 2 10 jobs\n",
    "\n",
    "%precision %g\n",
    "%run \"/Users/liulei/Downloads/butools2/Python/BuToolsInit\"\n",
    "\n",
    "import matplotlib.pyplot as plt\n",
    "import time\n",
    "\n",
    "# python uniformation operation time test \n",
    "\n",
    "# with absorb state\n",
    "tic = time.perf_counter()\n",
    "Qstar = ml.matrix([[0.533333,0.466667,0,0,0,0,0,0,0,0,0,0,0,0,0,0,0,0,0,0,0,0,0,0,0,0,0,0,0,0],[0,0.333333,0.133333,0.533333,0,0,0,0,0,0,0,0,0,0,0,0,0,0,0,0,0,0,0,0,0,0,0,0,0,0],[0,0,0.866667,0,0.133333,0,0,0,0,0,0,0,0,0,0,0,0,0,0,0,0,0,0,0,0,0,0,0,0,0],[0,0,0,0.466667,0.533333,0,0,0,0,0,0,0,0,0,0,0,0,0,0,0,0,0,0,0,0,0,0,0,0,0],[0,0,0,0,0.6,0.133333,0.266667,0,0,0,0,0,0,0,0,0,0,0,0,0,0,0,0,0,0,0,0,0,0,0],[0,0,0,0,0,0.866667,0,0.133333,0,0,0,0,0,0,0,0,0,0,0,0,0,0,0,0,0,0,0,0,0,0],[0,0,0,0,0,0,0.733333,0.266667,0,0,0,0,0,0,0,0,0,0,0,0,0,0,0,0,0,0,0,0,0,0],[0,0,0,0,0,0,0,0.133333,0.533333,0.333333,0,0,0,0,0,0,0,0,0,0,0,0,0,0,0,0,0,0,0,0],[0,0,0,0,0,0,0,0,0.466667,0,0.533333,0,0,0,0,0,0,0,0,0,0,0,0,0,0,0,0,0,0,0],[0,0,0,0,0,0,0,0,0,0.666667,0.333333,0,0,0,0,0,0,0,0,0,0,0,0,0,0,0,0,0,0,0],[0,0,0,0,0,0,0,0,0,0,0.733333,0.2,0.0666667,0,0,0,0,0,0,0,0,0,0,0,0,0,0,0,0,0],[0,0,0,0,0,0,0,0,0,0,0,0.8,0,0.2,0,0,0,0,0,0,0,0,0,0,0,0,0,0,0,0],[0,0,0,0,0,0,0,0,0,0,0,0,0.933333,0.0666667,0,0,0,0,0,0,0,0,0,0,0,0,0,0,0,0],[0,0,0,0,0,0,0,0,0,0,0,0,0,0.2,0.466667,0.333333,0,0,0,0,0,0,0,0,0,0,0,0,0,0],[0,0,0,0,0,0,0,0,0,0,0,0,0,0,0.533333,0,0.466667,0,0,0,0,0,0,0,0,0,0,0,0,0],[0,0,0,0,0,0,0,0,0,0,0,0,0,0,0,0.666667,0.333333,0,0,0,0,0,0,0,0,0,0,0,0,0],[0,0,0,0,0,0,0,0,0,0,0,0,0,0,0,0,0.6,0.2,0.2,0,0,0,0,0,0,0,0,0,0,0],[0,0,0,0,0,0,0,0,0,0,0,0,0,0,0,0,0,0.8,0,0.2,0,0,0,0,0,0,0,0,0,0],[0,0,0,0,0,0,0,0,0,0,0,0,0,0,0,0,0,0,0.8,0.2,0,0,0,0,0,0,0,0,0,0],[0,0,0,0,0,0,0,0,0,0,0,0,0,0,0,0,0,0,0,0.4,0.333333,0.266667,0,0,0,0,0,0,0,0],[0,0,0,0,0,0,0,0,0,0,0,0,0,0,0,0,0,0,0,0,0.666667,0,0.333333,0,0,0,0,0,0,0],[0,0,0,0,0,0,0,0,0,0,0,0,0,0,0,0,0,0,0,0,0,0.733333,0.266667,0,0,0,0,0,0,0],[0,0,0,0,0,0,0,0,0,0,0,0,0,0,0,0,0,0,0,0,0,0,0.266667,0.533333,0.2,0,0,0,0,0],[0,0,0,0,0,0,0,0,0,0,0,0,0,0,0,0,0,0,0,0,0,0,0,0.466667,0,0.533333,0,0,0,0],[0,0,0,0,0,0,0,0,0,0,0,0,0,0,0,0,0,0,0,0,0,0,0,0,0.8,0.2,0,0,0,0],[0,0,0,0,0,0,0,0,0,0,0,0,0,0,0,0,0,0,0,0,0,0,0,0,0,0,0.533333,0.466667,0,0],[0,0,0,0,0,0,0,0,0,0,0,0,0,0,0,0,0,0,0,0,0,0,0,0,0,0,0.466667,0,0.533333,0],[0,0,0,0,0,0,0,0,0,0,0,0,0,0,0,0,0,0,0,0,0,0,0,0,0,0,0,0.533333,0.466667,0],[0,0,0,0,0,0,0,0,0,0,0,0,0,0,0,0,0,0,0,0,0,0,0,0,0,0,0,0,0.933333,0.0666667],[0,0,0,0,0,0,0,0,0,0,0,0,0,0,0,0,0,0,0,0,0,0,0,0,0,0,0,0,0,1]])\n",
    "delta1 = ml.matrix([[1, 0, 0, 0 , 0, 0, 0, 0 , 0, 0, 0 , 0, 0, 0, 0 , 0, 0, 0, 0 , 0, 0, 0 , 0, 0, 0, 0 , 0, 0, 0 , 0],[0, 1, 0, 0 , 0, 0, 0, 0 , 0, 0, 0 , 0, 0, 0, 0 , 0, 0, 0, 0 , 0, 0, 0 , 0, 0, 0, 0 , 0, 0, 0 , 0], [0, 0, 1, 0 , 0, 0, 0, 0 , 0, 0, 0 , 0, 0, 0, 0 , 0, 0, 0, 0 , 0, 0, 0 , 0, 0, 0, 0 , 0, 0, 0 , 0],  [0, 0, 0, 1 , 0, 0, 0, 0 , 0, 0, 0 , 0, 0, 0, 0 , 0, 0, 0, 0 , 0, 0, 0 , 0, 0, 0, 0 , 0, 0, 0 , 0],[0, 0, 0, 0 , 1, 0, 0, 0 , 0, 0, 0 , 0, 0, 0, 0 , 0, 0, 0, 0 , 0, 0, 0 , 0, 0, 0, 0 , 0, 0, 0 , 0],[0, 0, 0, 0 , 0, 1, 0, 0 , 0, 0, 0 , 0, 0, 0, 0 , 0, 0, 0, 0 , 0, 0, 0 , 0, 0, 0, 0 , 0, 0, 0 , 0],    [0, 0, 0, 0 , 0, 0, 1, 0 , 0, 0, 0 , 0, 0, 0, 0 , 0, 0, 0, 0 , 0, 0, 0 , 0, 0, 0, 0 , 0, 0, 0 , 0],    [0, 0, 0, 0 , 0, 0, 0, 1 , 0, 0, 0 , 0, 0, 0, 0 , 0, 0, 0, 0 , 0, 0, 0 , 0, 0, 0, 0 , 0, 0, 0 , 0],    [0, 0, 0, 0 , 0, 0, 0, 0 , 1, 0, 0 , 0, 0, 0, 0 , 0, 0, 0, 0 , 0, 0, 0 , 0, 0, 0, 0 , 0, 0, 0 , 0],    [0, 0, 0, 0 , 0, 0, 0, 0 , 0, 1, 0 , 0, 0, 0, 0 , 0, 0, 0, 0 , 0, 0, 0 , 0, 0, 0, 0 , 0, 0, 0 , 0],    [0, 0, 0, 0 , 0, 0, 0, 0 , 0, 0, 1 , 0, 0, 0, 0 , 0, 0, 0, 0 , 0, 0, 0 , 0, 0, 0, 0 , 0, 0, 0 , 0],    [0, 0, 0, 0 , 0, 0, 0, 0 , 0, 0, 0 , 1, 0, 0, 0 , 0, 0, 0, 0 , 0, 0, 0 , 0, 0, 0, 0 , 0, 0, 0 , 0],    [0, 0, 0, 0 , 0, 0, 0, 0 , 0, 0, 0 , 0, 1, 0, 0 , 0, 0, 0, 0 , 0, 0, 0 , 0, 0, 0, 0 , 0, 0, 0 , 0],    [0, 0, 0, 0 , 0, 0, 0, 0 , 0, 0, 0 , 0, 0, 1, 0 , 0, 0, 0, 0 , 0, 0, 0 , 0, 0, 0, 0 , 0, 0, 0 , 0],    [0, 0, 0, 0 , 0, 0, 0, 0 , 0, 0, 0 , 0, 0, 0, 1 , 0, 0, 0, 0 , 0, 0, 0 , 0, 0, 0, 0 , 0, 0, 0 , 0],    [0, 0, 0, 0 , 0, 0, 0, 0 , 0, 0, 0 , 0, 0, 0, 0 , 1, 0, 0, 0 , 0, 0, 0 , 0, 0, 0, 0 , 0, 0, 0 , 0],    [0, 0, 0, 0 , 0, 0, 0, 0 , 0, 0, 0 , 0, 0, 0, 0 , 0, 1, 0, 0 , 0, 0, 0 , 0, 0, 0, 0 , 0, 0, 0 , 0],    [0, 0, 0, 0 , 0, 0, 0, 0 , 0, 0, 0 , 0, 0, 0, 0 , 0, 0, 1, 0 , 0, 0, 0 , 0, 0, 0, 0 , 0, 0, 0 , 0],    [0, 0, 0, 0 , 0, 0, 0, 0 , 0, 0, 0 , 0, 0, 0, 0 , 0, 0, 0, 1 , 0, 0, 0 , 0, 0, 0, 0 , 0, 0, 0 , 0],    [0, 0, 0, 0 , 0, 0, 0, 0 , 0, 0, 0 , 0, 0, 0, 0 , 0, 0, 0, 0 , 1, 0, 0 , 0, 0, 0, 0 , 0, 0, 0 , 0],    [0, 0, 0, 0 , 0, 0, 0, 0 , 0, 0, 0 , 0, 0, 0, 0 , 0, 0, 0, 0 , 0, 1, 0 , 0, 0, 0, 0 , 0, 0, 0 , 0],    [0, 0, 0, 0 , 0, 0, 0, 0 , 0, 0, 0 , 0, 0, 0, 0 , 0, 0, 0, 0 , 0, 0, 1 , 0, 0, 0, 0 , 0, 0, 0 , 0],    [0, 0, 0, 0 , 0, 0, 0, 0 , 0, 0, 0 , 0, 0, 0, 0 , 0, 0, 0, 0 , 0, 0, 0 , 1, 0, 0, 0 , 0, 0, 0 , 0],    [0, 0, 0, 0 , 0, 0, 0, 0 , 0, 0, 0 , 0, 0, 0, 0 , 0, 0, 0, 0 , 0, 0, 0 , 0, 1, 0, 0 , 0, 0, 0 , 0],    [0, 0, 0, 0 , 0, 0, 0, 0 , 0, 0, 0 , 0, 0, 0, 0 , 0, 0, 0, 0 , 0, 0, 0 , 0, 0, 1, 0 , 0, 0, 0 , 0],    [0, 0, 0, 0 , 0, 0, 0, 0 , 0, 0, 0 , 0, 0, 0, 0 , 0, 0, 0, 0 , 0, 0, 0 , 0, 0, 0, 1 , 0, 0, 0 , 0],    [0, 0, 0, 0 , 0, 0, 0, 0 , 0, 0, 0 , 0, 0, 0, 0 , 0, 0, 0, 0 , 0, 0, 0 , 0, 0, 0, 0 , 1, 0, 0 , 0],    [0, 0, 0, 0 , 0, 0, 0, 0 , 0, 0, 0 , 0, 0, 0, 0 , 0, 0, 0, 0 , 0, 0, 0 , 0, 0, 0, 0 , 0, 1, 0 , 0],    [0, 0, 0, 0 , 0, 0, 0, 0 , 0, 0, 0 , 0, 0, 0, 0 , 0, 0, 0, 0 , 0, 0, 0 , 0, 0, 0, 0 , 0, 0, 1 , 0],    [0, 0, 0, 0 , 0, 0, 0, 0 , 0, 0, 0 , 0, 0, 0, 0 , 0, 0, 0, 0 , 0, 0, 0 , 0, 0, 0, 0 , 0, 0, 0 , 1]])\n",
    "\n",
    "cdfList=[]\n",
    "xList=[]\n",
    "q = 1.5\n",
    "for x1 in range(0, 160):\n",
    "    cdf =0\n",
    "    x= x1\n",
    "    xList.append(x)\n",
    "    delta = delta1\n",
    "    for i in range(1,120):\n",
    "        a = (q*x)**i\n",
    "        b = np.math.factorial(i)\n",
    "        delta = delta.dot(Qstar)\n",
    "        cdf += ((np.exp(-q*x))*a* delta/b)[0,29]\n",
    "    cdfList.append(cdf)\n",
    "toc = time.perf_counter()\n",
    "print(f\"Cost {toc - tic:0.4f} seconds\")\n",
    "plt.plot(xList,cdfList,color='blue')\n",
    "# print(cdfList)"
   ]
  },
  {
   "cell_type": "code",
   "execution_count": null,
   "metadata": {},
   "outputs": [],
   "source": [
    "import numpy as np\n",
    "import matplotlib.pyplot as plt\n",
    "import scipy.stats as stats\n",
    "\n",
    "mean = 2\n",
    "loc = 0\n",
    "\n",
    "xvalues = np.linspace(0,4, 10)\n",
    "r1 = stats.expon.rvs(loc=0, scale=10, size=1000)\n",
    "r2 = stats.expon.rvs(loc=0, scale=5, size=1000)\n",
    "r3 = stats.expon.rvs(loc=0, scale=2, size=1000)\n",
    "r4 = stats.expon.rvs(loc=0, scale=1.25, size=1000)\n",
    "r5 = stats.expon.rvs(loc=0, scale=1, size=1000)\n",
    "\n",
    "mix = r1+r2 +r3 +r4 +r5\n",
    "\n",
    "#     cdf(xvalues,loc, 1) + stats.expon.cdf(xvalues, loc, 1/2) + stats.expon.cdf(xvalues, loc, 1/5)+ stats.expon.cdf(xvalues, loc, 1/8)+ stats.expon.cdf(xvalues, loc, 1/10)\n",
    "\n",
    "plt.hist( mix,  density=True, histtype='stepfilled', alpha=0.2)\n",
    "# plt.savefig(\"graph.png\")"
   ]
  },
  {
   "cell_type": "code",
   "execution_count": null,
   "metadata": {},
   "outputs": [],
   "source": [
    "import random\n",
    "\n",
    "for i in range(20):\n",
    "    x = random.uniform(2, 5)\n",
    "    print(round(x,1))"
   ]
  },
  {
   "cell_type": "code",
   "execution_count": null,
   "metadata": {},
   "outputs": [],
   "source": []
  }
 ],
 "metadata": {
  "kernelspec": {
   "display_name": "Python 3",
   "language": "python",
   "name": "python3"
  },
  "language_info": {
   "codemirror_mode": {
    "name": "ipython",
    "version": 3
   },
   "file_extension": ".py",
   "mimetype": "text/x-python",
   "name": "python",
   "nbconvert_exporter": "python",
   "pygments_lexer": "ipython3",
   "version": "3.7.4"
  }
 },
 "nbformat": 4,
 "nbformat_minor": 2
}
